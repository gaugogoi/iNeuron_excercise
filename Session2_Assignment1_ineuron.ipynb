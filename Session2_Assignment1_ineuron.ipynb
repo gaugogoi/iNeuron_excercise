{
 "cells": [
  {
   "cell_type": "markdown",
   "metadata": {},
   "source": [
    "# Task 1:"
   ]
  },
  {
   "cell_type": "raw",
   "metadata": {},
   "source": [
    "1.1: Write a Python Program to implement your own myreduce() function which works exactly like Python's built-in function reduce()"
   ]
  },
  {
   "cell_type": "code",
   "execution_count": 10,
   "metadata": {},
   "outputs": [
    {
     "name": "stdout",
     "output_type": "stream",
     "text": [
      "15\n",
      "sudh\n"
     ]
    }
   ],
   "source": [
    "# In-built reduce function\n",
    "\n",
    "import functools\n",
    "# Sum of all elements inside the list\n",
    "l = [1,2,3,4,5]\n",
    "print(functools.reduce(lambda a,b: a+b, l))\n",
    "# Find the string value inside the tuple\n",
    "l = (2,3,4,'sudh',6)\n",
    "print(functools.reduce(lambda a,b: a if type(a) == str else b,l))"
   ]
  },
  {
   "cell_type": "code",
   "execution_count": 11,
   "metadata": {},
   "outputs": [],
   "source": [
    "# Create a function with function and input_data as arguement in line with inbuilt reduce function\n",
    "def myreduce(anonymous_function, sequence):\n",
    "    # Capture the 1st element and assign the value to result object\n",
    "    result = sequence[0]\n",
    "    \n",
    "    # Iterate over the input_data from the 2nd element till end\n",
    "    for i in sequence[1:]:\n",
    "        # function applied on 1st element and subsequent element\n",
    "        # output is saved in result object which will be used in the next iteration\n",
    "        result = anonymous_function(result,i)\n",
    "    return result"
   ]
  },
  {
   "cell_type": "code",
   "execution_count": 13,
   "metadata": {},
   "outputs": [
    {
     "name": "stdout",
     "output_type": "stream",
     "text": [
      "15\n",
      "sudh\n"
     ]
    }
   ],
   "source": [
    "# Testing myreduce function:\n",
    "l = [1,2,3,4,5]\n",
    "print(myreduce(lambda a,b: a+b,l))\n",
    "l = (2,3,4,'sudh',6)\n",
    "print(myreduce(lambda a,b: a if type(a) == str else b,l))"
   ]
  },
  {
   "cell_type": "markdown",
   "metadata": {},
   "source": [
    "1.2:\n",
    "Write a Python program to implement your own myfilter() \n",
    "function which works exactly like Python's built-in function filter()"
   ]
  },
  {
   "cell_type": "code",
   "execution_count": 14,
   "metadata": {},
   "outputs": [
    {
     "name": "stdout",
     "output_type": "stream",
     "text": [
      "[1, 3, 5, 13]\n"
     ]
    }
   ],
   "source": [
    "# Inbult filter function\n",
    " \n",
    "seq = [0, 1, 2, 3, 5, 8, 13] \n",
    "# result contains odd numbers of the list \n",
    "result = filter(lambda x: x % 2 != 0, seq) \n",
    "print(list(result)) "
   ]
  },
  {
   "cell_type": "code",
   "execution_count": 17,
   "metadata": {},
   "outputs": [],
   "source": [
    "# myfilter function\n",
    "\n",
    "def myfilter(anonymous_function,sequence):\n",
    "    result = []\n",
    "    \n",
    "    for i in sequence:\n",
    "        if anonymous_function(i):\n",
    "            result.append(i)\n",
    "    return result"
   ]
  },
  {
   "cell_type": "code",
   "execution_count": 18,
   "metadata": {},
   "outputs": [
    {
     "name": "stdout",
     "output_type": "stream",
     "text": [
      "[1, 3, 5, 13]\n"
     ]
    }
   ],
   "source": [
    "seq = [0, 1, 2, 3, 5, 8, 13]\n",
    "print(myfilter(lambda x : x % 2 != 0, seq))"
   ]
  },
  {
   "cell_type": "raw",
   "metadata": {},
   "source": [
    "2. \n",
    "Implement List comprehensions to produce the following lists. \n",
    "Write List comprehensions to produce the following Lists "
   ]
  },
  {
   "cell_type": "code",
   "execution_count": 28,
   "metadata": {},
   "outputs": [
    {
     "data": {
      "text/plain": [
       "['A', 'C', 'A', 'D', 'G', 'I', 'L', 'D']"
      ]
     },
     "execution_count": 28,
     "metadata": {},
     "output_type": "execute_result"
    }
   ],
   "source": [
    "# output 2\n",
    "# ['A', 'C', 'A', 'D', 'G', 'I', ’L’, ‘ D’]\n",
    "\n",
    "string = 'ACADGILD'\n",
    "[i for i in string]"
   ]
  },
  {
   "cell_type": "code",
   "execution_count": 32,
   "metadata": {},
   "outputs": [
    {
     "data": {
      "text/plain": [
       "['x', 'xx', 'xxx', 'xxxx', 'y', 'yy', 'yyy', 'yyyy', 'z', 'zz', 'zzz', 'zzzz']"
      ]
     },
     "execution_count": 32,
     "metadata": {},
     "output_type": "execute_result"
    }
   ],
   "source": [
    "# output 2\n",
    "# ['x', 'xx', 'xxx', 'xxxx', 'y', 'yy', 'yyy', 'yyyy', 'z', 'zz', 'zzz', 'zzzz']\n",
    "\n",
    "# Without list-comprehension\n",
    "lst = ['x','y','z']\n",
    "result = []\n",
    "\n",
    "for i in lst:\n",
    "    for j in range(1,5):\n",
    "        result.append(i*j)\n",
    "result"
   ]
  },
  {
   "cell_type": "code",
   "execution_count": 33,
   "metadata": {},
   "outputs": [
    {
     "data": {
      "text/plain": [
       "['x', 'xx', 'xxx', 'xxxx', 'y', 'yy', 'yyy', 'yyyy', 'z', 'zz', 'zzz', 'zzzz']"
      ]
     },
     "execution_count": 33,
     "metadata": {},
     "output_type": "execute_result"
    }
   ],
   "source": [
    "# With List-comprehension\n",
    "lst = ['x','y','z']\n",
    "[i*j for i in lst for j in range(1,5)]"
   ]
  },
  {
   "cell_type": "code",
   "execution_count": 42,
   "metadata": {},
   "outputs": [
    {
     "data": {
      "text/plain": [
       "['x', 'y', 'z', 'xx', 'yy', 'zz', 'xxx', 'yyy', 'zzz', 'xxxx', 'yyyy', 'zzzz']"
      ]
     },
     "execution_count": 42,
     "metadata": {},
     "output_type": "execute_result"
    }
   ],
   "source": [
    "# output 3\n",
    "# ['x', 'y', 'z', 'xx', 'yy', 'zz', 'xx', 'yy', 'zz', 'xxxx', 'yyyy', 'zzzz']\n",
    "\n",
    "# Without List comprehension\n",
    "lst = ['x','y','z']\n",
    "\n",
    "result = []\n",
    "for j in range(1,5):\n",
    "    for i in lst:\n",
    "        result.append(i*j)\n",
    "            \n",
    "result"
   ]
  },
  {
   "cell_type": "code",
   "execution_count": 43,
   "metadata": {},
   "outputs": [
    {
     "data": {
      "text/plain": [
       "['x', 'y', 'z', 'xx', 'yy', 'zz', 'xxx', 'yyy', 'zzz', 'xxxx', 'yyyy', 'zzzz']"
      ]
     },
     "execution_count": 43,
     "metadata": {},
     "output_type": "execute_result"
    }
   ],
   "source": [
    "# With List-Comprehension\n",
    "lst = ['x','y','z']\n",
    "[i*j for j in range(1,5) for i in lst]"
   ]
  },
  {
   "cell_type": "code",
   "execution_count": 47,
   "metadata": {},
   "outputs": [
    {
     "data": {
      "text/plain": [
       "[[2], [3], [4], [3], [4], [5], [4], [5], [6]]"
      ]
     },
     "execution_count": 47,
     "metadata": {},
     "output_type": "execute_result"
    }
   ],
   "source": [
    "# output 4\n",
    "\n",
    "# [[2], [3], [4], [3], [4], [5], [4], [5], [6]]\n",
    "\n",
    "# Without list-comprehension\n",
    "lst = [2,3,4]\n",
    "result = []\n",
    "for i in lst:\n",
    "    for j in range(0,3):\n",
    "        result.append([i+j])\n",
    "result"
   ]
  },
  {
   "cell_type": "code",
   "execution_count": 48,
   "metadata": {},
   "outputs": [
    {
     "data": {
      "text/plain": [
       "[[2], [3], [4], [3], [4], [5], [4], [5], [6]]"
      ]
     },
     "execution_count": 48,
     "metadata": {},
     "output_type": "execute_result"
    }
   ],
   "source": [
    "# With list-comprehension\n",
    "lst = [2,3,4]\n",
    "[[i+j] for i in lst for j in range(0,3)] "
   ]
  },
  {
   "cell_type": "code",
   "execution_count": 17,
   "metadata": {},
   "outputs": [
    {
     "name": "stdout",
     "output_type": "stream",
     "text": [
      "[[2, 3, 4, 5], [3, 4, 5, 6], [4, 5, 6, 7], [5, 6, 7, 8]]\n"
     ]
    }
   ],
   "source": [
    "# output 5\n",
    "\n",
    "# [[2, 3, 4, 5], [3, 4, 5, 6], [4, 5, 6, 7], [5, 6, 7, 8]]\n",
    "\n",
    "lst = [2,3,4,5]\n",
    "\n",
    "result = []\n",
    "\n",
    "for j in range(0,4):\n",
    "    k = []\n",
    "    for i in lst:\n",
    "        k.append(j+i)\n",
    "    result.append(k)\n",
    "print(result)"
   ]
  },
  {
   "cell_type": "code",
   "execution_count": 18,
   "metadata": {},
   "outputs": [
    {
     "data": {
      "text/plain": [
       "[[2, 3, 4, 5], [3, 4, 5, 6], [4, 5, 6, 7], [5, 6, 7, 8]]"
      ]
     },
     "execution_count": 18,
     "metadata": {},
     "output_type": "execute_result"
    }
   ],
   "source": [
    "# With List-comprehension\n",
    "lst = [2,3,4,5]\n",
    "[[j+i for i in lst] for j in range(0,4)]"
   ]
  },
  {
   "cell_type": "code",
   "execution_count": 95,
   "metadata": {},
   "outputs": [
    {
     "data": {
      "text/plain": [
       "[(1, 1), (2, 1), (3, 1), (1, 2), (2, 2), (3, 2), (1, 3), (2, 3), (3, 3)]"
      ]
     },
     "execution_count": 95,
     "metadata": {},
     "output_type": "execute_result"
    }
   ],
   "source": [
    "# Output- 6\n",
    "\n",
    "# [(1, 1), (2, 1), (3, 1), (1, 2), (2, 2), (3, 2), (1, 3), (2, 3), (3, 3)]\n",
    "\n",
    "# Without list-comprehension\n",
    "tup = (1,2,3)\n",
    "\n",
    "result = []\n",
    "\n",
    "for i in tup:\n",
    "    for j in range(1,4):\n",
    "        result.append((j,i))\n",
    "        \n",
    "result"
   ]
  },
  {
   "cell_type": "code",
   "execution_count": 96,
   "metadata": {},
   "outputs": [
    {
     "data": {
      "text/plain": [
       "[(1, 1), (1, 2), (1, 3), (2, 1), (2, 2), (2, 3), (3, 1), (3, 2), (3, 3)]"
      ]
     },
     "execution_count": 96,
     "metadata": {},
     "output_type": "execute_result"
    }
   ],
   "source": [
    "# With list comprehension\n",
    "tup = (1,2,3)\n",
    "\n",
    "[(j,i) for j in range(1,4) for i in tup]"
   ]
  },
  {
   "cell_type": "raw",
   "metadata": {},
   "source": [
    "********************************************&&**********************************************\n",
    "3. Implement a function longestWord() that takes a list of words and returns the longest one."
   ]
  },
  {
   "cell_type": "code",
   "execution_count": 9,
   "metadata": {},
   "outputs": [
    {
     "data": {
      "text/plain": [
       "'elephant'"
      ]
     },
     "execution_count": 9,
     "metadata": {},
     "output_type": "execute_result"
    }
   ],
   "source": [
    "def longestWord(list_input):\n",
    "        long=functools.reduce(lambda a,b: a if len(a) > len(b) else b, list_input)\n",
    "        return long\n",
    "longestWord(['cat','elephant','tiger'])\n",
    "# longestWord(['cat','elephant','tiger'])"
   ]
  },
  {
   "cell_type": "code",
   "execution_count": 11,
   "metadata": {},
   "outputs": [
    {
     "name": "stdout",
     "output_type": "stream",
     "text": [
      "Enter the words separated by space: cat crocodile cow rat\n"
     ]
    },
    {
     "data": {
      "text/plain": [
       "'crocodile'"
      ]
     },
     "execution_count": 11,
     "metadata": {},
     "output_type": "execute_result"
    }
   ],
   "source": [
    "inp = input('Enter the words separated by space: ')\n",
    "user_list = inp.split()\n",
    "longestWord(user_list)"
   ]
  },
  {
   "cell_type": "markdown",
   "metadata": {},
   "source": [
    "# Task 2:"
   ]
  },
  {
   "cell_type": "raw",
   "metadata": {},
   "source": [
    "1.1 \n",
    "Write a Python Program(with class concepts) to find the area of the triangle \n",
    "using the below formula. area = (s*(s-a)*(s-b)*(s-c)) ** 0.5 Function to take \n",
    "the length of the sides of triangle from user should be defined in the parent \n",
    "class and function to calculate the area should be defined in subclass."
   ]
  },
  {
   "cell_type": "code",
   "execution_count": 67,
   "metadata": {},
   "outputs": [],
   "source": [
    "class find_area:\n",
    "    def __init__(self,a,b,c):\n",
    "        self.a = a\n",
    "        self.b = b\n",
    "        self.c = c\n",
    "        \n",
    "    def area_triangle(self):\n",
    "        s = (self.a+self.b+self.c)/2\n",
    "        area = round((s*(s-self.a)*(s-self.b)*(s-self.c))**0.5,2)\n",
    "        return area"
   ]
  },
  {
   "cell_type": "code",
   "execution_count": 68,
   "metadata": {},
   "outputs": [],
   "source": [
    "p = find_area(5,6,7)"
   ]
  },
  {
   "cell_type": "code",
   "execution_count": 69,
   "metadata": {},
   "outputs": [
    {
     "data": {
      "text/plain": [
       "14.7"
      ]
     },
     "execution_count": 69,
     "metadata": {},
     "output_type": "execute_result"
    }
   ],
   "source": [
    "p.area_triangle()"
   ]
  },
  {
   "cell_type": "raw",
   "metadata": {},
   "source": [
    "1.2\n",
    "Write a function filter_long_words() that takes a list of words and an integer n and returns\n",
    "the list of words that are longer than n."
   ]
  },
  {
   "cell_type": "code",
   "execution_count": 24,
   "metadata": {},
   "outputs": [],
   "source": [
    "def filter_long_words(lst_wrd,n):\n",
    "    result = []\n",
    "    for i in lst_wrd:\n",
    "        if len(i) > n:\n",
    "            result.append(i)\n",
    "    return result"
   ]
  },
  {
   "cell_type": "code",
   "execution_count": 26,
   "metadata": {},
   "outputs": [
    {
     "data": {
      "text/plain": [
       "['coconut', 'aeroplane']"
      ]
     },
     "execution_count": 26,
     "metadata": {},
     "output_type": "execute_result"
    }
   ],
   "source": [
    "filter_long_words(['apple','mango','coconut','aeroplane'],5)"
   ]
  },
  {
   "cell_type": "raw",
   "metadata": {},
   "source": [
    "2.1 \n",
    "Write a Python program using function concept that maps list of words \n",
    "into a list of integers representing the lengths of the corresponding words.\n",
    "Hint: If a list [ ab,cde,erty] is passed on to the \n",
    "python function output should come as [2,3,4] Here 2,3 and 4 are the lengths of the words in the list."
   ]
  },
  {
   "cell_type": "code",
   "execution_count": 29,
   "metadata": {},
   "outputs": [],
   "source": [
    "def get_len(list_entry):\n",
    "    result = []\n",
    "    for i in list_entry:\n",
    "        result.append((len(i)))\n",
    "    return result"
   ]
  },
  {
   "cell_type": "code",
   "execution_count": 30,
   "metadata": {},
   "outputs": [
    {
     "data": {
      "text/plain": [
       "[2, 3, 4]"
      ]
     },
     "execution_count": 30,
     "metadata": {},
     "output_type": "execute_result"
    }
   ],
   "source": [
    "get_len(['ab','cde','erty'])"
   ]
  },
  {
   "cell_type": "code",
   "execution_count": 33,
   "metadata": {},
   "outputs": [
    {
     "data": {
      "text/plain": [
       "[9, 5, 4, 5, 7]"
      ]
     },
     "execution_count": 33,
     "metadata": {},
     "output_type": "execute_result"
    }
   ],
   "source": [
    "# With lambda function\n",
    "lst = ['sudhanshu','kumar','Naik','Krish','ineuron']\n",
    "list_length = list(map(lambda x: len(x),lst))\n",
    "list_length"
   ]
  },
  {
   "cell_type": "raw",
   "metadata": {},
   "source": [
    "2.2\n",
    "Write a Python function which takes a character (i.e. a string of length 1) \n",
    "and returns True if it is a vowel, False otherwise."
   ]
  },
  {
   "cell_type": "code",
   "execution_count": 46,
   "metadata": {},
   "outputs": [],
   "source": [
    "def is_vowel(string):\n",
    "    string = string.lower()\n",
    "    if len(string) == 1:\n",
    "        if string in ['a','e','i','o','u']:\n",
    "            return True\n",
    "        else:\n",
    "            return False\n",
    "    elif len(string) > 1:\n",
    "        print('Please enter single letter:')   "
   ]
  },
  {
   "cell_type": "code",
   "execution_count": 51,
   "metadata": {},
   "outputs": [
    {
     "data": {
      "text/plain": [
       "False"
      ]
     },
     "execution_count": 51,
     "metadata": {},
     "output_type": "execute_result"
    }
   ],
   "source": [
    "is_vowel('w')"
   ]
  },
  {
   "cell_type": "raw",
   "metadata": {},
   "source": [
    "*********************************** End *************************************************"
   ]
  }
 ],
 "metadata": {
  "kernelspec": {
   "display_name": "Python 3",
   "language": "python",
   "name": "python3"
  },
  "language_info": {
   "codemirror_mode": {
    "name": "ipython",
    "version": 3
   },
   "file_extension": ".py",
   "mimetype": "text/x-python",
   "name": "python",
   "nbconvert_exporter": "python",
   "pygments_lexer": "ipython3",
   "version": "3.7.1"
  }
 },
 "nbformat": 4,
 "nbformat_minor": 2
}
